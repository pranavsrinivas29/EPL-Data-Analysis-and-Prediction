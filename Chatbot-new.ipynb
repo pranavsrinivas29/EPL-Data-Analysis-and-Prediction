{
 "cells": [
  {
   "cell_type": "code",
   "execution_count": 9,
   "metadata": {},
   "outputs": [],
   "source": [
    "\n",
    "#conda install -c conda-forge libopenblas\n",
    "#!pip install torch torchvision torchaudio\n"
   ]
  },
  {
   "cell_type": "code",
   "execution_count": 10,
   "metadata": {},
   "outputs": [
    {
     "name": "stdout",
     "output_type": "stream",
     "text": [
      "Model and data saved successfully.\n"
     ]
    }
   ],
   "source": [
    "import pandas as pd\n",
    "from sklearn.feature_extraction.text import TfidfVectorizer\n",
    "from transformers import pipeline\n",
    "import pickle\n",
    "\n",
    "# Load the CSV files\n",
    "file_path_1 = 'premier-league-matches.csv'\n",
    "file_path_2 = 'epl_season_1993_2024.csv'\n",
    "\n",
    "df1 = pd.read_csv(file_path_1)\n",
    "df2 = pd.read_csv(file_path_2)\n",
    "\n",
    "# Prepare the data\n",
    "def prepare_data(df1, df2):\n",
    "    # File 1: Focus on Match Details\n",
    "    df1['Question'] = 'What was the result of ' + df1['Home'] + ' vs ' + df1['Away'] + ' on ' + df1['Date'] + '?'\n",
    "    df1['Answer'] = df1['Home'] + ' scored ' + df1['HomeGoals'].astype(str) + ' goals and ' + df1['Away'] + \\\n",
    "                    ' scored ' + df1['AwayGoals'].astype(str) + ' goals. Final result: ' + df1['FTR']\n",
    "\n",
    "    # File 2: Focus on Season Summaries\n",
    "    df2['Question'] = 'Tell me about the ' + df2['Season_End_Year'].astype(str) + ' season.'\n",
    "    df2['Answer'] = 'In the ' + df2['Season_End_Year'].astype(str) + ' season, there were ' + df2['Total_Matches'].astype(str) + \\\n",
    "                    ' matches, with a total of ' + df2['Total_Goals'].astype(str) + ' goals scored. The champion was ' + \\\n",
    "                    df2['Champion'] + ' and the runners-up were ' + df2['Runners'] + '.'\n",
    "\n",
    "    # Combine the question-answer pairs\n",
    "    combined_df = pd.concat([df1[['Question', 'Answer']], df2[['Question', 'Answer']]], ignore_index=True)\n",
    "    return combined_df\n",
    "\n",
    "combined_df = prepare_data(df1, df2)\n",
    "\n",
    "# Train TF-IDF model\n",
    "tfidf_vectorizer = TfidfVectorizer()\n",
    "tfidf_matrix = tfidf_vectorizer.fit_transform(combined_df['Question'])\n",
    "\n",
    "# Save the TF-IDF model and data\n",
    "model_filename = 'tfidf_model.pkl'\n",
    "matrix_filename = 'tfidf_matrix.pkl'\n",
    "data_filename = 'combined_data.pkl'\n",
    "\n",
    "with open(model_filename, 'wb') as model_file:\n",
    "    pickle.dump(tfidf_vectorizer, model_file)\n",
    "\n",
    "with open(matrix_filename, 'wb') as matrix_file:\n",
    "    pickle.dump(tfidf_matrix, matrix_file)\n",
    "\n",
    "with open(data_filename, 'wb') as data_file:\n",
    "    pickle.dump(combined_df, data_file)\n",
    "\n",
    "print(\"Model and data saved successfully.\")\n"
   ]
  }
 ],
 "metadata": {
  "kernelspec": {
   "display_name": "base",
   "language": "python",
   "name": "python3"
  },
  "language_info": {
   "codemirror_mode": {
    "name": "ipython",
    "version": 3
   },
   "file_extension": ".py",
   "mimetype": "text/x-python",
   "name": "python",
   "nbconvert_exporter": "python",
   "pygments_lexer": "ipython3",
   "version": "3.11.8"
  }
 },
 "nbformat": 4,
 "nbformat_minor": 2
}
